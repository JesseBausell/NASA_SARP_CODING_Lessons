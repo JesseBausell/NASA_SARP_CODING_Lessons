{
 "cells": [
  {
   "cell_type": "code",
   "execution_count": null,
   "metadata": {
    "collapsed": true
   },
   "outputs": [],
   "source": [
    "## Python for Earth Scientists: Lesson 7\n",
    "# Run this cell in order to create the variables below. These variables will be used in the\n",
    "# lesson. If for any reason you change one of these variables by mistake, you can re-run\n",
    "# this cell in order to reset the variables. We will refer to this cell as the \"first variables\n",
    "# cell\". This cell may look familiar from last lesson.\n",
    "\n",
    "from IPython.display import HTML # Ignore this library\n",
    "from IPython.display import display # Ignore this library\n",
    "\n",
    "from tkinter import filedialog as fd # File dialog library. This can be used to select folders \n",
    "import numpy as np # Import numpy as np\n",
    "import os # import operating systems interface\n",
    "import matplotlib.pyplot as plt\n",
    "from datetime import datetime as dt\n",
    "import csv"
   ]
  },
  {
   "cell_type": "code",
   "execution_count": null,
   "metadata": {
    "collapsed": true
   },
   "outputs": [],
   "source": [
    "## 1. The following cells contain errors associated with numpy. \n",
    "# Run the cell, identify the error(s), then try and fix the errors."
   ]
  },
  {
   "cell_type": "code",
   "execution_count": null,
   "metadata": {
    "collapsed": true
   },
   "outputs": [],
   "source": [
    "# 1a. Append the two arrays side by side\n",
    "\n",
    "x1 = np.array([[0,1,2,3,4,5]])\n",
    "x2 = np.arange(6,12)\n",
    "x3 = np.append(x1,x2,axis=0)\n",
    "x4 = np.append(x1,x2)\n",
    "print('x3 = ')\n",
    "print(x3)\n",
    "print('x4 = ')\n",
    "print(x4)"
   ]
  },
  {
   "cell_type": "code",
   "execution_count": null,
   "metadata": {
    "collapsed": true
   },
   "outputs": [],
   "source": [
    "# Answer: Run this cell to hide the answer\n",
    "\n",
    "\n",
    "#1a. Append the two arrays side by side\n",
    "# Taken from https://stackoverflow.com/questions/31517194/how-to-hide-one-specific-cell-input-or-output-in-ipython-notebook\n",
    "tag = HTML('''<script>\n",
    "code_show=true; \n",
    "function code_toggle() {\n",
    "    if (code_show){\n",
    "        $('div.cell.code_cell.rendered.selected div.input').hide();\n",
    "    } else {\n",
    "        $('div.cell.code_cell.rendered.selected div.input').show();\n",
    "    }\n",
    "    code_show = !code_show\n",
    "} \n",
    "$( document ).ready(code_toggle);\n",
    "</script>\n",
    "To see the answer, click <a href=\"javascript:code_toggle()\">here</a>.''')\n",
    "display(tag)\n",
    "\n",
    "###############################################################################################\n",
    "\n",
    "x1 = np.array([[0,1,2,3,4,5]])\n",
    "x2 = np.arange(6,12).reshape([1,len(x2)])\n",
    "x3 = np.append(x1,x2,axis=0)\n",
    "x4 = np.append(x1,x2)\n",
    "print('x3 = ')\n",
    "print(x3)\n",
    "print('x4 = ')\n",
    "print(x4)"
   ]
  },
  {
   "cell_type": "code",
   "execution_count": null,
   "metadata": {
    "collapsed": true
   },
   "outputs": [],
   "source": [
    "# 1b. Concatenate array and matrix. Make sure that array appears vertically on the right side \n",
    "# of the matrix\n",
    "\n",
    "y1 = np.mat([[1,2,3],[4,5,6],[7,8,9]]\n",
    "x1 = np.arange(10,13)\n",
    "y2 = np.append(y1,x1,axis=1)"
   ]
  },
  {
   "cell_type": "code",
   "execution_count": null,
   "metadata": {
    "collapsed": true
   },
   "outputs": [],
   "source": [
    "# Answer: Run this cell to hide the answer\n",
    "\n",
    "#1b. Concatenate array and matrix. Make sure that array appears vertically on the right side \n",
    "# of the matrix\n",
    "\n",
    "# Taken from https://stackoverflow.com/questions/31517194/how-to-hide-one-specific-cell-input-or-output-in-ipython-notebook\n",
    "tag = HTML('''<script>\n",
    "code_show=true; \n",
    "function code_toggle() {\n",
    "    if (code_show){\n",
    "        $('div.cell.code_cell.rendered.selected div.input').hide();\n",
    "    } else {\n",
    "        $('div.cell.code_cell.rendered.selected div.input').show();\n",
    "    }\n",
    "    code_show = !code_show\n",
    "} \n",
    "$( document ).ready(code_toggle);\n",
    "</script>\n",
    "To see the answer, click <a href=\"javascript:code_toggle()\">here</a>.''')\n",
    "display(tag)\n",
    "\n",
    "###############################################################################################\n",
    "\n",
    "y1 = np.mat([[1,2,3],[4,5,6],[7,8,9]])\n",
    "x1 = np.arange(10,13).reshape(len(x1),1)\n",
    "y2 = np.append(y1,x1,axis=1)\n",
    "print(y2)"
   ]
  },
  {
   "cell_type": "code",
   "execution_count": null,
   "metadata": {
    "collapsed": true
   },
   "outputs": [],
   "source": [
    "#1c. Append array underneath matrix as a row\n",
    "\n",
    "y1 = np.mat([[1,2,3],[4,5,6],[7,8,9])\n",
    "x1 = np.arange(10,13).reshape(len(x1),1)\n",
    "y2 = np.append(y1,x1,axis=0)\n",
    "print(y2)"
   ]
  },
  {
   "cell_type": "code",
   "execution_count": null,
   "metadata": {
    "collapsed": true
   },
   "outputs": [],
   "source": [
    "# Answer: Run this cell to hide the answer\n",
    "         \n",
    "#1c. Concatenate array and matrix. Make sure that array appears vertically on the right side \n",
    "# of the matrix\n",
    "\n",
    "# Taken from https://stackoverflow.com/questions/31517194/how-to-hide-one-specific-cell-input-or-output-in-ipython-notebook\n",
    "tag = HTML('''<script>\n",
    "code_show=true; \n",
    "function code_toggle() {\n",
    "    if (code_show){\n",
    "        $('div.cell.code_cell.rendered.selected div.input').hide();\n",
    "    } else {\n",
    "        $('div.cell.code_cell.rendered.selected div.input').show();\n",
    "    }\n",
    "    code_show = !code_show\n",
    "} \n",
    "$( document ).ready(code_toggle);\n",
    "</script>\n",
    "To see the answer, click <a href=\"javascript:code_toggle()\">here</a>.''')\n",
    "display(tag)\n",
    "\n",
    "###############################################################################################\n",
    "\n",
    "y1 = np.mat([[1,2,3],[4,5,6],[7,8,9]])\n",
    "x1 = np.arange(10,13)\n",
    "x1 = x1.reshape([1,len(x1)])\n",
    "y2 = np.append(y1,x1,axis=0)\n",
    "print(y2)#"
   ]
  },
  {
   "cell_type": "code",
   "execution_count": null,
   "metadata": {
    "collapsed": true
   },
   "outputs": [],
   "source": [
    "# 2 Errors with lists and for-loops"
   ]
  },
  {
   "cell_type": "code",
   "execution_count": null,
   "metadata": {
    "collapsed": true
   },
   "outputs": [],
   "source": [
    "# 2a. Add the two lists below, converting them into an array of six 6's. The final printed array \n",
    "# should look like: [6,6,6,6,6,6]. \n",
    "\n",
    "NASA = ['5','4a','3','2','1']\n",
    "SARP = ['1','2','3','4','5','6']\n",
    "\n",
    "SIXES = SARP\n",
    "SIXES[:-1] = SIXES[:-1] + NASA\n",
    "print(SIXES)"
   ]
  },
  {
   "cell_type": "code",
   "execution_count": null,
   "metadata": {
    "collapsed": true
   },
   "outputs": [],
   "source": [
    "# Answer: Run this cell to hide the answer\n",
    "         \n",
    "#2a. Concatenate array and matrix. Make sure that array appears vertically on the right side \n",
    "# of the matrix\n",
    "\n",
    "# Taken from https://stackoverflow.com/questions/31517194/how-to-hide-one-specific-cell-input-or-output-in-ipython-notebook\n",
    "tag = HTML('''<script>\n",
    "code_show=true; \n",
    "function code_toggle() {\n",
    "    if (code_show){\n",
    "        $('div.cell.code_cell.rendered.selected div.input').hide();\n",
    "    } else {\n",
    "        $('div.cell.code_cell.rendered.selected div.input').show();\n",
    "    }\n",
    "    code_show = !code_show\n",
    "} \n",
    "$( document ).ready(code_toggle);\n",
    "</script>\n",
    "To see the answer, click <a href=\"javascript:code_toggle()\">here</a>.''')\n",
    "display(tag)\n",
    "\n",
    "###############################################################################################\n",
    "\n",
    "\n",
    "NASA = ['5','4','3','2','1']\n",
    "SARP = ['1','2','3','4','5','6']\n",
    "\n",
    "NASA = np.asarray(NASA,dtype=int)\n",
    "SARP = np.asarray(SARP,dtype=int)\n",
    "\n",
    "SIXES = SARP\n",
    "SIXES[:-1] = SIXES[:-1] + NASA\n",
    "print(SIXES)"
   ]
  },
  {
   "cell_type": "code",
   "execution_count": null,
   "metadata": {
    "collapsed": true
   },
   "outputs": [],
   "source": [
    "# 2b. Obtain the same result as in 2a. This time, use a for loop and a list.\n",
    "\n",
    "NASA = ['5','4','3','2','1']\n",
    "SARP = ['1','2','3','4','5','6']\n",
    "\n",
    "LIST_6 = ()\n",
    "\n",
    "for i,s in enumerate(SARP):\n",
    "        SUM = s + NASA[i]\n",
    "        LIST_6.append(SUM)\n"
   ]
  },
  {
   "cell_type": "code",
   "execution_count": null,
   "metadata": {
    "collapsed": true
   },
   "outputs": [],
   "source": [
    "\n",
    "#2b. Obtain the same result as in 2a. This time, use a for loop and a list.\n",
    "# Taken from https://stackoverflow.com/questions/31517194/how-to-hide-one-specific-cell-input-or-output-in-ipython-notebook\n",
    "tag = HTML('''<script>\n",
    "code_show=true; \n",
    "function code_toggle() {\n",
    "    if (code_show){\n",
    "        $('div.cell.code_cell.rendered.selected div.input').hide();\n",
    "    } else {\n",
    "        $('div.cell.code_cell.rendered.selected div.input').show();\n",
    "    }\n",
    "    code_show = !code_show\n",
    "} \n",
    "$( document ).ready(code_toggle);\n",
    "</script>\n",
    "To see the answer, click <a href=\"javascript:code_toggle()\">here</a>.''')\n",
    "display(tag)\n",
    "\n",
    "###############################################\n",
    "\n",
    "NASA = ['5','4','3','2','1']\n",
    "SARP = ['1','2','3','4','5','6']\n",
    "\n",
    "NASA = np.asarray(NASA,dtype=int)\n",
    "SARP = np.asarray(SARP,dtype=int)\n",
    "\n",
    "\n",
    "LIST_6 = []\n",
    "\n",
    "for i,s in enumerate(SARP):\n",
    "    if s <= 5:\n",
    "        SUM = s + NASA[i]\n",
    "        LIST_6.append(SUM)\n",
    "    else:\n",
    "        LIST_6.append(s)"
   ]
  },
  {
   "cell_type": "code",
   "execution_count": null,
   "metadata": {
    "collapsed": true
   },
   "outputs": [],
   "source": [
    "# 3. The cell below contains code that plots monthly temperature and pressure averages for\n",
    "# Monterey Bay. Your mentor wrote this code to be perfectly efficient and bug free...almost\n",
    "# Run the code. If you encounter any bugs, fix them. HINT: It's OK to annotate the code as you\n",
    "# go!\n",
    "\n",
    "\n",
    "# 1. Create function to read in csv data\n",
    "def weather_UNDERGROUND_COMBINEDcsv(file_NAME,**kwargs):\n",
    "    \"\"\"Similar to weather_UNDERGROUND_READER, except the second to last line of code is commented out.\n",
    "    DELIMITER keyword argument must be set equal to a specific delimiter (comma, tab, etc.)\"\"\"\n",
    "    seP = kwargs['DELIMITER'] \n",
    "    with open(file_NAME) as FID: \n",
    "        titlE = FID.readline() \n",
    "        titlE = titlE.strip().split(seP) \n",
    "        METEOLOGICAL_DATA = {} \n",
    "        for t in titlE:\n",
    "            METEOLOGICAL_DATA[t] = ()\n",
    "        keY = 0\n",
    "        for linE in FID:\n",
    "            keY = keY+1\n",
    "            linE = linE.strip().split(seP) \n",
    "            for i,t in enumerate(titlE) \n",
    "                METEOLOGICAL_DATA[t].append(linE[i]) \n",
    "    return(METEOLOGICAL_DATA)\n",
    "\n",
    "# 1. Read in csv file and create numpy arrays for temperature and pressure\n",
    "filE_NAME = fd.askopenfilename()[:-1] \n",
    "DATA = weather_UNDERGROUND_COMBINEDcsv(filE_NAME,DELIMITER='\\t')\n",
    "temPERATURE = np.asarray(DATA['temperature'],dtype=float) \n",
    "\n",
    "# 2. Create datetime array from time strings. From date time create array of months \n",
    "forMAT = \"%Y-%m-%d %H:%M:%S\"  \n",
    "timE_array = [dt.strptime(t, forMAT) for t in DATA['Time']] \n",
    "timE_months = [dt.strftime(t, '%m') for t in timE_array] \n",
    "timE_months = np.asarray(timE_months,dtype=str) \n",
    "\n",
    "# 3. Index problematic temperature and pressure values. Replace with nan\n",
    "temP_IND = np.where((temPERATURE <= 0) | (temPERATURE >= 120)) \n",
    "preS_IND = np.where((20 <= 0) | (35 >= 120)) \n",
    "temPERATURE[temP_IND] = np.nan \n",
    "preSSURE[preS_IND] = nan\n",
    "\n",
    "# 4. Average temperature and pressure data by month\n",
    "TEMPmonthly_AVG = {} \n",
    "PRESmonthly_AVG = []  \n",
    "for i in range(12):\n",
    "    month_IND = np.where(timE_months == i+1)\n",
    "    meaN_TEMP = np.nanmean(temPERATURE[month_IND] \n",
    "    meaN_PRES = np.nanmean(preSSURE[month_IND]) \n",
    "    TEMPmonthly_AVG.append(meaN_TEMP) \n",
    "    PRESmonthly_AVG.append(meaN_PRES) \n",
    "\n",
    "plt.plot(np.arange(1,12),TEMPmonthly_AVG,'b') \n",
    "plt.xlabel('Month')\n",
    "plt.ylabel('Temperature (F)')\n",
    "plt.show() \n",
    "\n",
    "plt.plot(np.arange(1,12),PRESmonthly_AVG,'r') \n",
    "plt.xlabel('Month')\n",
    "plt.ylabel('Pressure (inHg)')\n",
    "plt.show() "
   ]
  },
  {
   "cell_type": "code",
   "execution_count": null,
   "metadata": {
    "collapsed": true
   },
   "outputs": [],
   "source": [
    "# Answer to question 3. Run this cell to hide the answer!! In this cell, bugs are corrected\n",
    "# and an explanation is provided in the annotation. NO CHEATING!\n",
    "\n",
    "\n",
    "\n",
    "# Taken from https://stackoverflow.com/questions/31517194/how-to-hide-one-specific-cell-input-or-output-in-ipython-notebook\n",
    "tag = HTML('''<script>\n",
    "code_show=true; \n",
    "function code_toggle() {\n",
    "    if (code_show){\n",
    "        $('div.cell.code_cell.rendered.selected div.input').hide();\n",
    "    } else {\n",
    "        $('div.cell.code_cell.rendered.selected div.input').show();\n",
    "    }\n",
    "    code_show = !code_show\n",
    "} \n",
    "$( document ).ready(code_toggle);\n",
    "</script>\n",
    "To see the answer, click <a href=\"javascript:code_toggle()\">here</a>.''')\n",
    "display(tag)\n",
    "\n",
    "\n",
    "#### Lines with mistakes are annotated.\n",
    "\n",
    "# 1. Create function to read in csv data\n",
    "def weather_UNDERGROUND_COMBINEDcsv(file_NAME,**kwargs):\n",
    "    \"\"\"Similar to weather_UNDERGROUND_READER, except the second to last line of code is commented out.\n",
    "    DELIMITER keyword argument must be set equal to a specific delimiter (comma, tab, etc.)\"\"\"\n",
    "    seP = kwargs['DELIMITER'] # BUG: DELIMITER must be a comma, not a tab (data separated by commas)\n",
    "    with open(file_NAME) as FID: \n",
    "        titlE = FID.readline() \n",
    "        titlE = titlE.strip().split(seP) \n",
    "        METEOLOGICAL_DATA = {} \n",
    "        for t in titlE:\n",
    "            METEOLOGICAL_DATA[t] = [] # BUG: Empty LIST, not empty Tuple\n",
    "        keY = 0\n",
    "        for linE in FID:\n",
    "            keY = keY+1\n",
    "            linE = linE.strip().split(seP) \n",
    "            for i,t in enumerate(titlE): # BUG: Missing colon \n",
    "                METEOLOGICAL_DATA[t].append(linE[i]) \n",
    "    return(METEOLOGICAL_DATA)\n",
    "\n",
    "# 1. Read in csv file and create numpy arrays for temperature and pressure\n",
    "filE_NAME = fd.askopenfilename() # BUG: altered file name\n",
    "DATA = weather_UNDERGROUND_COMBINEDcsv(filE_NAME,DELIMITER=',') #BUG: Delimiter must be comma\n",
    "preSSURE = np.asarray(DATA['Pressure'],dtype=float) # BUG: Create an numpy array out of pressure list \n",
    "temPERATURE = np.asarray(DATA['Temperature'],dtype=float) # BUG: Mispelled key\n",
    "\n",
    "# 2. Create datetime array from time strings. From date time create array of months \n",
    "forMAT = \"%Y-%m-%d %H:%M:%S\"  \n",
    "timE_array = [dt.strptime(t, forMAT) for t in DATA['Time']] \n",
    "timE_months = [dt.strftime(t, '%m') for t in timE_array] \n",
    "timE_months = np.asarray(timE_months,dtype=int) # BUG: Months must be a numpy array of integers, not a list\n",
    "\n",
    "# 3. Index problematic temperature and pressure values. Replace with nan\n",
    "temP_IND = np.where((temPERATURE <= 0) | (temPERATURE >= 120)) \n",
    "preS_IND = np.where((20 <= 0) | (35 >= 120)) \n",
    "temPERATURE[temP_IND] = np.nan \n",
    "preSSURE[preS_IND] = np.nan # BUG: nan is a function within numpy, not a variable\n",
    "\n",
    "# 4. Average temperature and pressure data by month\n",
    "TEMPmonthly_AVG = [] # BUG: Create empty LIST, not empty dictionary\n",
    "PRESmonthly_AVG = []  \n",
    "for i in range(12):\n",
    "    month_IND = np.where(timE_months == i+1)\n",
    "    meaN_TEMP = np.nanmean(temPERATURE[month_IND]) # BUG: Close parenthesis\n",
    "    meaN_PRES = np.nanmean(preSSURE[month_IND]) \n",
    "    TEMPmonthly_AVG.append(meaN_TEMP) \n",
    "    PRESmonthly_AVG.append(meaN_PRES) \n",
    "\n",
    "plt.plot(np.arange(1,13),TEMPmonthly_AVG,'b') # BUG: np.arange must go from 1 to 13, not 1 to 12\n",
    "plt.xlabel('Month')\n",
    "plt.ylabel('Temperature (F)')\n",
    "plt.show() \n",
    "\n",
    "plt.plot(np.arange(1,13),PRESmonthly_AVG,'r') \n",
    "plt.xlabel('Month')\n",
    "plt.ylabel('Pressure (inHg)')\n",
    "plt.show() "
   ]
  },
  {
   "cell_type": "code",
   "execution_count": null,
   "metadata": {
    "collapsed": true
   },
   "outputs": [],
   "source": [
    "\n"
   ]
  },
  {
   "cell_type": "code",
   "execution_count": null,
   "metadata": {
    "collapsed": true
   },
   "outputs": [],
   "source": []
  },
  {
   "cell_type": "code",
   "execution_count": null,
   "metadata": {
    "collapsed": true
   },
   "outputs": [],
   "source": []
  }
 ],
 "metadata": {
  "kernelspec": {
   "display_name": "Python 3",
   "language": "python",
   "name": "python3"
  },
  "language_info": {
   "codemirror_mode": {
    "name": "ipython",
    "version": 3
   },
   "file_extension": ".py",
   "mimetype": "text/x-python",
   "name": "python",
   "nbconvert_exporter": "python",
   "pygments_lexer": "ipython3",
   "version": "3.6.3"
  }
 },
 "nbformat": 4,
 "nbformat_minor": 2
}
