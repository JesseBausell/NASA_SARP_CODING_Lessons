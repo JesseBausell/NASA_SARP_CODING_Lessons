{
 "cells": [
  {
   "cell_type": "code",
   "execution_count": null,
   "metadata": {
    "collapsed": true
   },
   "outputs": [],
   "source": [
    "## Python for Earth Scientists: Lesson 6\n",
    "# Run this cell in order to create the variables below. These variables will be used in the\n",
    "# lesson. If for any reason you change one of these variables by mistake, you can re-run\n",
    "# this cell in order to reset the variables. We will refer to this cell as the \"first variables\n",
    "# cell\". This cell may look familiar from last lesson.\n",
    "\n",
    "from IPython.display import HTML # Ignore this library\n",
    "from IPython.display import display # Ignore this library\n",
    "\n",
    "from tkinter import filedialog as fd # File dialog library. This can be used to select folders \n",
    "import numpy as np # Import numpy as np\n",
    "import os # import operating systems interface\n",
    "import matplotlib.pyplot as plt\n",
    "from datetime import datetime as dt\n",
    "import csv"
   ]
  },
  {
   "cell_type": "code",
   "execution_count": null,
   "metadata": {
    "collapsed": true
   },
   "outputs": [],
   "source": [
    "# Run this cell to create a user-defined function capable of handling \"weather underground\"\n",
    "# meteorological data. What are the changes we made from \"weather_UNDERGROUND_READER\"?\n",
    "\n",
    "def weather_UNDERGROUND_COMBINEDcsv(file_NAME,**kwargs):\n",
    "    \"\"\"Similar to weather_UNDERGROUND_READER, except the second to last line of code is commented out.\n",
    "    DELIMITER keyword argument must be set equal to a specific delimiter (comma, tab, etc.)\"\"\"\n",
    "    seP = kwargs['DELIMITER'] # Call DELIMITER from kwargs. Set it equal to a variable\n",
    "    with open(file_NAME) as FID: # Open file_NAME\n",
    "#        FID.readline() # Skip over the FIRST line of file by not assigning it to a variable\n",
    "#        while 1:\n",
    "        titlE = FID.readline() # Read each line of ascii file one at a time\n",
    "#            if 'Time,Temp' in titlE: # If \"Time,Temp\" is present ANYWHERE in the \n",
    "#                break # Break for-loop\n",
    "        titlE = titlE.strip().split(',') # Convert titlE from string to list\n",
    "#        FID.readline() # Skip over the THIRD line of file by not assigning it to a variable\n",
    "        METEOLOGICAL_DATA = {} # Create dictionary for meteorological data\n",
    "        for t in titlE:\n",
    "            # forloop builds METEOLOGICAL_DATA by setting keys equal to empty lists\n",
    "            METEOLOGICAL_DATA[t] = [] # Create empty list for each title header\n",
    "        keY = 0\n",
    "        for linE in FID:\n",
    "            # For-loop goes through each ascii file line by line\n",
    "            keY = keY+1\n",
    "            linE = linE.strip().split(',') # Convert linE from string to list\n",
    "            for i,t in enumerate(titlE):\n",
    "                # Nested for-loop grabs title headers, and uses them to index ascii values and\n",
    "                # append them to the correct list (inside a key)\n",
    "                METEOLOGICAL_DATA[t].append(linE[i]) # Append ascii value to a list. Use title header to find list\n",
    "            #FID.readline() # Skip over EVERY OTHER LINE in ascii file because they are blank\n",
    "    return(METEOLOGICAL_DATA)"
   ]
  },
  {
   "cell_type": "code",
   "execution_count": null,
   "metadata": {
    "collapsed": true
   },
   "outputs": [],
   "source": [
    "# 1. Open csv file and read data into a dictionary\n",
    "\n",
    "#csv_FILENAME = fd.askopenfilename() # Open file\n",
    "WU_DICT = weather_UNDERGROUND_COMBINEDcsv(csv_FILENAME,DELIMITER=',')"
   ]
  },
  {
   "cell_type": "code",
   "execution_count": null,
   "metadata": {
    "collapsed": true
   },
   "outputs": [],
   "source": [
    "# 1a. Convert temperature and pressure values from lists of strings to numpy arrays of floats\n",
    "\n",
    "temP_array = np.asarray(WU_DICT['Temperature'],dtype=float)\n",
    "preS_array = np.asarray(WU_DICT['Pressure'],dtype=float)"
   ]
  },
  {
   "cell_type": "code",
   "execution_count": null,
   "metadata": {
    "collapsed": true
   },
   "outputs": [],
   "source": [
    "# 1b. Convert time stamps into datetime\n",
    "timE_LIST = WU_DICT['Time'] # Create list of time arrays (a little bit redundant, but who cares?)\n",
    "forMAT = \"%Y-%m-%d %H:%M:%S\" # datetime format for timestamp: \"YYYY-mm-dd HH:MM:SS\" \n",
    "timE_DT = [dt.strptime(t, forMAT) for t in timE_LIST] # Convert list of strings into list of datetimes\n",
    "\n"
   ]
  },
  {
   "cell_type": "code",
   "execution_count": null,
   "metadata": {
    "collapsed": true
   },
   "outputs": [],
   "source": [
    "# 1c. Create numerical array of months for each data point (e.g. January = 1). Make sure months\n",
    "# are integers!\n",
    "\n",
    "timE_months = [dt.strftime(t, '%m') for t in timE_DT] # Create list of months using integers. These will be strings\n",
    "timE_months = np.asarray(timE_months,dtype=int) # Convert list into numpy array\n"
   ]
  },
  {
   "cell_type": "code",
   "execution_count": null,
   "metadata": {
    "collapsed": true
   },
   "outputs": [],
   "source": [
    "# 1d. Using your acquired python skills, calculate the average monthly temperatures and pressures\n",
    "# for Santa Cruz Wharf in 2017. Plot these monthly averages on a line graph. It's OK use monthly \n",
    "# integer values on the x-axis. \n",
    "\n"
   ]
  },
  {
   "cell_type": "code",
   "execution_count": null,
   "metadata": {
    "collapsed": true
   },
   "outputs": [],
   "source": [
    "# Answer to 1d! Run this cell to hide the answer!\n",
    "\n",
    "# Taken from https://stackoverflow.com/questions/31517194/how-to-hide-one-specific-cell-input-or-output-in-ipython-notebook\n",
    "tag = HTML('''<script>\n",
    "code_show=true; \n",
    "function code_toggle() {\n",
    "    if (code_show){\n",
    "        $('div.cell.code_cell.rendered.selected div.input').hide();\n",
    "    } else {\n",
    "        $('div.cell.code_cell.rendered.selected div.input').show();\n",
    "    }\n",
    "    code_show = !code_show\n",
    "} \n",
    "$( document ).ready(code_toggle);\n",
    "</script>\n",
    "To see the answer, click <a href=\"javascript:code_toggle()\">here</a>.''')\n",
    "display(tag)\n",
    "\n",
    "###############################################################################################\n",
    "\n",
    "# Average data by month, solution 1:\n",
    "TEMPmonthly_AVG = [] # Create an empty list to place monthly temperature averages\n",
    "PRESmonthly_AVG = [] # Create an empty list to place monthly pressure averages\n",
    "for i in range(12):\n",
    "    # For-loop cycle through integers 0-11 for the twelve months\n",
    "    month_IND = [] # Variable to place monthly indices\n",
    "    for j,m in enumerate(timE_months):\n",
    "        # Nested for-loop cycles through months for each Temperature/Pressure measurement\n",
    "        if i+1 == m:\n",
    "            # If the month index from the array is equal to the month that we are searching for\n",
    "            month_IND.append(j) # append the month index (j) onto the list of monthly indices (month_IND)\n",
    "    month_TEMP = temP_array[month_IND] # Index temperature by month\n",
    "    month_PRES = preS_array[month_IND] # Index pressure by month\n",
    "    meaN_TEMP = np.nanmean(month_TEMP) # Average indexed temperature values\n",
    "    meaN_PRES = np.nanmean(month_PRES) # Average indexed pressure values\n",
    "    TEMPmonthly_AVG.append(meaN_TEMP) # Create an empty list to place monthly temperature averages\n",
    "    PRESmonthly_AVG.append(meaN_PRES) # Create an empty list to place monthly pressure averages\n",
    "\n",
    "# Average data by month, solution 2:\n",
    "TEMPmonthly_AVG = [] # Create an empty list to place monthly temperature averages\n",
    "PRESmonthly_AVG = [] # Create an empty list to place monthly pressure averages\n",
    "for i in range(12):\n",
    "    # For-loop cycle through integers 0-11 for the twelve months\n",
    "    month_IND = np.where(timE_months == i+1)\n",
    "    meaN_TEMP = np.nanmean(temP_array[month_IND]) # Average indexed temperatures by month\n",
    "    meaN_PRES = np.nanmean(preS_array[month_IND]) # Average indexed pressures by month\n",
    "    TEMPmonthly_AVG.append(meaN_TEMP) # Create an empty list to place monthly temperature averages\n",
    "    PRESmonthly_AVG.append(meaN_PRES) # Create an empty list to place monthly pressure averages\n",
    "    \n",
    "# Plot temperature and pressure data (separate plots)\n",
    "plt.plot(np.arange(1,13),TEMPmonthly_AVG,'b') # Plot temperature by month\n",
    "plt.xlabel('Month')\n",
    "plt.ylabel('Temperature (F)')\n",
    "plt.show() # Show plotted temperatures\n",
    "\n",
    "plt.plot(np.arange(1,13),PRESmonthly_AVG,'r') # Plot temperature by month\n",
    "plt.xlabel('Month')\n",
    "plt.ylabel('Pressure (inHg)')\n",
    "plt.show() # Show plotted temperatures\n",
    "\n"
   ]
  },
  {
   "cell_type": "code",
   "execution_count": null,
   "metadata": {
    "collapsed": true
   },
   "outputs": [],
   "source": [
    "# 2. Basic statistics using python"
   ]
  },
  {
   "cell_type": "code",
   "execution_count": null,
   "metadata": {
    "collapsed": true
   },
   "outputs": [],
   "source": [
    "# 2a. Calculate yearly means and standard deviations for Temperature and Pressure\n",
    "\n",
    "meanTEMP = np.nanmean(temP_array)\n",
    "meanPRES = np.nanmean(preS_array)\n",
    "stdTEMP = np.nanstd(temP_array)\n",
    "stdPRES = np.nanstd(preS_array)\n",
    "\n",
    "print('Mean Temp = ',str(meanTEMP),'+/-',str(stdTEMP))\n",
    "print('Mean Pres = ',str(meanPRES),'+/-',str(stdPRES))"
   ]
  },
  {
   "cell_type": "code",
   "execution_count": null,
   "metadata": {
    "collapsed": true
   },
   "outputs": [],
   "source": [
    "# 2b. Create a scatter plot of monthly temperature vs. monthly pressure averages\n",
    "\n",
    "plt.scatter(PRESmonthly_AVG,TEMPmonthly_AVG,c='r')\n",
    "plt.title('Scatter Plot Temperature vs. Pressure')\n",
    "plt.ylabel('Temperature (F)')\n",
    "plt.xlabel('Pressure (inHg)')\n",
    "plt.show()"
   ]
  },
  {
   "cell_type": "code",
   "execution_count": null,
   "metadata": {
    "collapsed": true
   },
   "outputs": [],
   "source": [
    "# 2c. Calculate a correlation coefficient for montly temperature vs. pressure\n",
    "r_coeff = np.corrcoef(PRESmonthly_AVG,TEMPmonthly_AVG) # Calculate correlation coefficient matrix\n",
    "print('Pearsons r matrix') # Print title\n",
    "print(r_coeff) # print correlation coefficient matrix\n",
    "r_coeff = r_coeff[0,1] # index non-autocorrelated correlation coefficient\n",
    "print()# Print empty space\n",
    "print('Temperature vs. Pressure') # print title\n",
    "print(r_coeff) # print correlation coefficient\n"
   ]
  },
  {
   "cell_type": "code",
   "execution_count": null,
   "metadata": {
    "collapsed": true
   },
   "outputs": [],
   "source": [
    "#2d. Calculate the least-squares coefficients of monthly temperature and pressure\n",
    "\n",
    "m, c = np.polyfit(PRESmonthly_AVG, TEMPmonthly_AVG, 1) # Calculate slope (m) and y-intercept (c) of best fit line\n",
    "print('slope =',m) #print slope\n",
    "print('y-int =',c) #print y-intercept"
   ]
  },
  {
   "cell_type": "code",
   "execution_count": null,
   "metadata": {
    "collapsed": true
   },
   "outputs": [],
   "source": [
    "# 2e. Plot the best fit line on the scatter plot\n",
    "xn = np.linspace(29.9, 30.2, 100) # Create a series of numbers to be used as linear x values\n",
    "yn = np.polyval([m, c], xn) # Calculate expected temperature based on xn\n",
    "plt.plot(PRESmonthly_AVG, TEMPmonthly_AVG, 'or') # Plot temperature vs. pressue\n",
    "plt.plot(xn, yn) # Plot best-fit line\n",
    "plt.show() # Show the graph"
   ]
  },
  {
   "cell_type": "code",
   "execution_count": null,
   "metadata": {
    "collapsed": true
   },
   "outputs": [],
   "source": []
  }
 ],
 "metadata": {
  "kernelspec": {
   "display_name": "Python 3",
   "language": "python",
   "name": "python3"
  },
  "language_info": {
   "codemirror_mode": {
    "name": "ipython",
    "version": 3
   },
   "file_extension": ".py",
   "mimetype": "text/x-python",
   "name": "python",
   "nbconvert_exporter": "python",
   "pygments_lexer": "ipython3",
   "version": "3.6.3"
  }
 },
 "nbformat": 4,
 "nbformat_minor": 2
}
