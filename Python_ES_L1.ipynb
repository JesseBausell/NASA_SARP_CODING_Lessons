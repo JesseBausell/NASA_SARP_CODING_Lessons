{
 "cells": [
  {
   "cell_type": "code",
   "execution_count": 1,
   "metadata": {
    "collapsed": true
   },
   "outputs": [],
   "source": [
    "## NASA_SARP_Coding_L1\n",
    "# Run this cell in order to create the variables below. These variables will be used in the\n",
    "# lesson. If for any reason you change one of these variables by mistake, you can re-run\n",
    "# this cell in order to reset the variables. We will refer to this cell as the \"variables cell\"\n",
    "\n",
    "import numpy as np # import the numpy library\n",
    "\n",
    "# Basic variable types\n",
    "x = 7 # Integer\n",
    "y = 6.3720 # float\n",
    "a = 'COVID-19' # String\n",
    "b = '100' # Numerical string\n",
    "\n",
    "# Lists\n",
    "first_NAME = ['George', 'Thomas','Abraham','Franklin','Ronald','Barack','Donald'] # Character List \n",
    "last_NAME = ['Washington', 'Jefferson','Lincoln','Roosevelt','Reagan','Obama','Trump'] # Character List \n",
    "IQ = [100,150,120,115,90,130,110] # Numerical list\n",
    "\n",
    "# Dictionary\n",
    "Presidents = {'First Name': first_NAME,'Last Name': last_NAME,'Intelligence': IQ} "
   ]
  },
  {
   "cell_type": "code",
   "execution_count": null,
   "metadata": {
    "collapsed": true
   },
   "outputs": [],
   "source": [
    "# 1. The function \"type\" is used to identify a particular variable. Using \"type\", identify the\n",
    "# classification of the following variables ONE AT A TIME: x, y, a, b, np, first_NAME, & Presidents.\n",
    "# Use as much space as necessary."
   ]
  },
  {
   "cell_type": "code",
   "execution_count": null,
   "metadata": {
    "collapsed": true
   },
   "outputs": [],
   "source": [
    "# 2. Basic mathematical operations are an important skill in coding. Attempt the following \n",
    "# mathematical opperations using the variable x in the cell below:\n",
    "\n",
    "# x+2\n",
    "# x-2\n",
    "# x*2\n",
    "# x**2\n",
    "# x/2\n",
    "# np.sqrt(x)\n"
   ]
  },
  {
   "cell_type": "code",
   "execution_count": null,
   "metadata": {
    "collapsed": true
   },
   "outputs": [],
   "source": [
    "# 2a. Repeat the same operations using \"b\" and \"IQ\". Did you get the same result? Why/why not?\n",
    "\n",
    "# b+2\n",
    "# b-2\n",
    "# b*2\n",
    "# b**2\n",
    "# b/2\n",
    "# np.sqrt(b)\n",
    "\n",
    "# IQ+2\n",
    "# IQ-2\n",
    "# IQ*2\n",
    "# IQ**2\n",
    "# IQ/2\n",
    "# np.sqrt(IQ)\n"
   ]
  },
  {
   "cell_type": "code",
   "execution_count": 2,
   "metadata": {},
   "outputs": [
    {
     "data": {
      "text/plain": [
       "int"
      ]
     },
     "execution_count": 2,
     "metadata": {},
     "output_type": "execute_result"
    }
   ],
   "source": [
    "# 2b. Use \"type\" to classify the following variables: x, y, b, IQ, and Presidents (see example\n",
    "# below). Based on your results, can you determine why mathematical operations work for some \n",
    "# of our variables but not others?\n",
    "\n",
    "type(x)"
   ]
  },
  {
   "cell_type": "code",
   "execution_count": null,
   "metadata": {
    "collapsed": true
   },
   "outputs": [],
   "source": [
    "# 3. Indexing is another important skill. Especially in data science. To index a list, we use \n",
    "# brackets ([]). On the cell below, try the following indices on the list \"last_NAME\". Describe \n",
    "# what happens. On the cell below, try all of the following indices: 0, 2, 6, 7, -2, & -2.\n",
    "# Do all of these work? If not, why not?\n",
    "\n",
    "# Example:\n",
    "#last_NAME[0]"
   ]
  },
  {
   "cell_type": "code",
   "execution_count": null,
   "metadata": {
    "collapsed": true
   },
   "outputs": [],
   "source": [
    "# 4. Lists are a useful variable for data storage. As you can see, they can store string,\n",
    "# floats, integers, or even arrays, matrices, or lists inside themselves! (more on that later). \n",
    "# When working with lists, two important functions are \"pop\" and \"append\". ONE AT A TIME, \n",
    "# Run the following lines of code in the cell below. Explain each of them does to your list.\n",
    "# Hint: you may need to re-examine your list after you run by using the \"print\"function.\n",
    "# e.g. - print(first_NAME)\n",
    "\n",
    "# first_NAME.append(\"Jonny\")\n",
    "# first_NAME.pop(-1)\n"
   ]
  },
  {
   "cell_type": "code",
   "execution_count": null,
   "metadata": {
    "collapsed": true
   },
   "outputs": [],
   "source": [
    "# 5. Hopefully by now you all understand how indexing works. You can visually examine a list, \n",
    "# count the order of elements, and then determine the index accordingly. But what happens if\n",
    "# you have a very long list? Maybe you don't feel like counting 100, 1000, or even 10,000 \n",
    "# elements to find one name! Wouldn't it be nice if there was a way to get python to do this \n",
    "# for you? Well you're in luck! Run following line of code. What does the variabl \"IND\" \n",
    "# represent?\n",
    "\n",
    "# IND = first_NAME.index(\"Franklin\")"
   ]
  },
  {
   "cell_type": "code",
   "execution_count": null,
   "metadata": {
    "collapsed": true
   },
   "outputs": [],
   "source": [
    "# 6. Using the \".index\" function, eliminate Ronald Reagan's first name, last name, and IQ from \n",
    "# the appropriate lists."
   ]
  },
  {
   "cell_type": "code",
   "execution_count": null,
   "metadata": {
    "collapsed": true
   },
   "outputs": [],
   "source": [
    "# 7. Poor Ronald! Although we were well intentioned, we really hurt his feelings when we reoved\n",
    "# him from our list. We need to put him back there. To do this, we could simpy re-run the \n",
    "# \"variables cell\", but that would be boring! Instead, let's restore our orgininal variables \n",
    "# using our our dictionary, \"Presidents\".\n",
    "\n",
    "# Run the following lines of code and explain what happens. Once you have a basic understanding\n",
    "# of dictionaries, use \"Presidents\" to restore the \"IQ\" variable.\n",
    "\n",
    "# first_NAME = Presidents['First Name']\n",
    "# last_NAME = Presidents['Last Name']"
   ]
  },
  {
   "cell_type": "code",
   "execution_count": null,
   "metadata": {
    "collapsed": true
   },
   "outputs": [],
   "source": [
    "# 8. Congratulations! You've come a long way and you're almost done! Now we're going to \n",
    "# introduce you to for-loops. For-loops are an interative loop. They will run through a set\n",
    "# of commands, specified by you, for a pre-set number of cycles. Let's try a very basic \n",
    "# for-loop. ONE AT A TIME, attempt to run the following for-loops in the cells below. \n",
    "# Do they all work the same? Why or why not? \n"
   ]
  },
  {
   "cell_type": "code",
   "execution_count": null,
   "metadata": {
    "collapsed": true
   },
   "outputs": [],
   "source": [
    "# 8a. Does the for-loop work? Explain why/why not?\n",
    "for p in last_NAME:\n",
    "    print('President ' + p)"
   ]
  },
  {
   "cell_type": "code",
   "execution_count": null,
   "metadata": {
    "collapsed": true
   },
   "outputs": [],
   "source": [
    "# 8b. Does the for-loop work? Explain why/why not?\n",
    "for p in last_NAME\n",
    "    print('President ' + p)"
   ]
  },
  {
   "cell_type": "code",
   "execution_count": null,
   "metadata": {
    "collapsed": true
   },
   "outputs": [],
   "source": [
    "# 8c. Does the for-loop work? Explain why/why not?\n",
    "for p in last_NAME:\n",
    "print('President ' + p)"
   ]
  },
  {
   "cell_type": "code",
   "execution_count": null,
   "metadata": {
    "collapsed": true
   },
   "outputs": [],
   "source": [
    "# 8d. Does the for-loop work? Explain why/why not?\n",
    "for p in last_NAME:\n",
    "    print('President '  p)"
   ]
  },
  {
   "cell_type": "code",
   "execution_count": null,
   "metadata": {
    "collapsed": true
   },
   "outputs": [],
   "source": [
    "# 9. Many coding languages will let you get away with sloppy habits. Unfortunately for you \n",
    "# (but fortunately for everybody who reads your code), python is NOT one of those languages. \n",
    "# In the spirit of good for-loop punctuation, run the following for-loop. What does the \n",
    "# function \"enumerate\" do?"
   ]
  },
  {
   "cell_type": "code",
   "execution_count": null,
   "metadata": {
    "collapsed": true
   },
   "outputs": [],
   "source": [
    "for i,p in enumerate(last_NAME):\n",
    "    print('i = ' + str(i))\n",
    "    print('p =' + p)"
   ]
  },
  {
   "cell_type": "code",
   "execution_count": null,
   "metadata": {
    "collapsed": true
   },
   "outputs": [],
   "source": [
    "# 10. What type of variables are \"i\" and \"p\"? \n",
    "# Hint: Refer back to the beginning of the lesson."
   ]
  },
  {
   "cell_type": "code",
   "execution_count": null,
   "metadata": {
    "collapsed": true
   },
   "outputs": [],
   "source": [
    "# 11. Use the tools and skills that you have gained to print a list of Presidents, (first\n",
    "# and last names) and their IQs. For example, the first printed line should read:\n",
    "\n",
    "# President George Washington, IQ: 100\n",
    "# President Thomas Jefferson, IQ: 150\n",
    "\n",
    "# The answer is in the cell below. Run the cell to hide the answer. Once you are ready, re-run\n",
    "# the cell to show the answer.\n",
    "\n",
    "# Hint, integers and floats can be made strings using the function \"str.\""
   ]
  },
  {
   "cell_type": "code",
   "execution_count": null,
   "metadata": {
    "collapsed": true
   },
   "outputs": [],
   "source": [
    "# Run this cell to hide the answer. When ready, re-run to show the answer.\n",
    "\n",
    "from IPython.display import HTML\n",
    "from IPython.display import display\n",
    "\n",
    "# Taken from https://stackoverflow.com/questions/31517194/how-to-hide-one-specific-cell-input-or-output-in-ipython-notebook\n",
    "tag = HTML('''<script>\n",
    "code_show=true; \n",
    "function code_toggle() {\n",
    "    if (code_show){\n",
    "        $('div.cell.code_cell.rendered.selected div.input').hide();\n",
    "    } else {\n",
    "        $('div.cell.code_cell.rendered.selected div.input').show();\n",
    "    }\n",
    "    code_show = !code_show\n",
    "} \n",
    "$( document ).ready(code_toggle);\n",
    "</script>\n",
    "To show/hide this cell's raw code input, click <a href=\"javascript:code_toggle()\">here</a>.''')\n",
    "display(tag)\n",
    "\n",
    "############### Write code below ##################\n",
    "\n",
    "for i,p in enumerate(last_NAME):\n",
    "    print(\"President \" + first_NAME[i] + ' ' + p + ', IQ: ' + str(IQ[i]))"
   ]
  }
 ],
 "metadata": {
  "kernelspec": {
   "display_name": "Python 3",
   "language": "python",
   "name": "python3"
  },
  "language_info": {
   "codemirror_mode": {
    "name": "ipython",
    "version": 3
   },
   "file_extension": ".py",
   "mimetype": "text/x-python",
   "name": "python",
   "nbconvert_exporter": "python",
   "pygments_lexer": "ipython3",
   "version": "3.6.3"
  }
 },
 "nbformat": 4,
 "nbformat_minor": 2
}
