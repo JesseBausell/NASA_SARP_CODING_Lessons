{
 "cells": [
  {
   "cell_type": "code",
   "execution_count": null,
   "metadata": {
    "collapsed": true
   },
   "outputs": [],
   "source": [
    "## Python for Earth Scientists: Lesson 2\n",
    "\n",
    "# Run this cell in order to create the variables below. These variables will be used in the\n",
    "# lesson. If for any reason you change one of these variables by mistake, you can re-run\n",
    "# this cell in order to reset the variables. We will refer to this cell as the \"first variables\n",
    "# cell\". This cell may look familiar from last lesson.\n",
    "\n",
    "\n",
    "from IPython.display import HTML # Ignore this library\n",
    "from IPython.display import display # Ignore this library\n",
    "\n",
    "\n",
    "import h5py # Library that deals with all things hdf5 \n",
    "from tkinter import filedialog as fd # File dialog library. This can be used to select folders \n",
    "# and files\n",
    "\n",
    "# Lists from last lesson\n",
    "first_NAME = ['George', 'Thomas','Abraham','Franklin','Ronald','Barack','Donald'] # Character List \n",
    "last_NAME = ['Washington', 'Jefferson','Lincoln','Roosevelt','Reagan','Obama','Trump'] # Character List \n",
    "IQ = [100,150,120,115,90,130,110] # Numerical list\n",
    "\n",
    "# Dictionary from last lesson\n",
    "\n",
    "Presidents = {'First Name': first_NAME,'Last Name': last_NAME,'Intelligence': IQ} \n"
   ]
  },
  {
   "cell_type": "code",
   "execution_count": null,
   "metadata": {
    "collapsed": true
   },
   "outputs": [],
   "source": [
    "# Lists for lesson 2. We will be relying on these list, in addition to the \"Presidents\" \n",
    "# dictionary, in order to teach concepts of a dictionary. This will be the \"second\" variables\n",
    "# cell\n",
    "\n",
    "monarch_NAME = ['Edward I','Henry VIII','Elizabeth I','George III','Victoria']\n",
    "reign_START = [1272,1509,1558,1760,1837]\n",
    "reign_END = [1307,1547,1603,1820,1901]\n",
    "monikER = ['Longshanks','Bad Husband','Oriana','the mad King','Widow of Winsor']"
   ]
  },
  {
   "cell_type": "code",
   "execution_count": null,
   "metadata": {},
   "outputs": [],
   "source": [
    "# 1. Create a dictionary based on new lists. This is an alterative way of creating dictionaries\n",
    "\n",
    "Monarchs = {} # Create an empty dictionary. \n",
    "\n",
    "# Add keys to the dictionary. Make each key a list\n",
    "Monarchs['Name'] = monarch_NAME # \n",
    "Monarchs['Start'] = reign_START\n",
    "Monarchs['End'] = reign_END\n",
    "Monarchs['Nickname'] = monikER"
   ]
  },
  {
   "cell_type": "code",
   "execution_count": null,
   "metadata": {
    "collapsed": true
   },
   "outputs": [],
   "source": [
    "# 2. Using the strategy shown above, add your own key to your dictionary. Do keys have to be \n",
    "# lists? Do they all have to be the same size?\n"
   ]
  },
  {
   "cell_type": "code",
   "execution_count": null,
   "metadata": {},
   "outputs": [],
   "source": [
    "# 3. Place the suffix \".keys()\" at the end of both dictionaries, \"Presidents\" and \"Monarchs\". \n",
    "# Do them ONE AT A TIME. Run the code and see what happens. Use \"print\" if necessary in \n",
    "# order to see the result.\n",
    "\n",
    "Monarchs.keys()\n"
   ]
  },
  {
   "cell_type": "code",
   "execution_count": null,
   "metadata": {
    "collapsed": true
   },
   "outputs": [],
   "source": [
    "# 3a. Use \"keys\" with Presidents. Predict beforehand what you will see.\n",
    "\n",
    "Presidents.keys()"
   ]
  },
  {
   "cell_type": "code",
   "execution_count": null,
   "metadata": {},
   "outputs": [],
   "source": [
    "# 4. Try using Monarchs.keys() in a for-loop with \"print\" (see Lesson 1). What do you see?\n",
    "\n",
    "for i in Monarchs.keys():\n",
    "    print(i)"
   ]
  },
  {
   "cell_type": "code",
   "execution_count": null,
   "metadata": {},
   "outputs": [],
   "source": [
    "# 4a. Try using Monarchs in a for-loop with \"print\" (see Lesson 1). What do you see? \n",
    "\n",
    "for i in Monarchs:\n",
    "    print(i)"
   ]
  },
  {
   "cell_type": "code",
   "execution_count": null,
   "metadata": {
    "collapsed": true
   },
   "outputs": [],
   "source": [
    "# 4b. How can we set Monarch keys to be a variable? Run the cell below to HIDE the answer. \n",
    "# Honors System!\n",
    "\n",
    "\n"
   ]
  },
  {
   "cell_type": "code",
   "execution_count": null,
   "metadata": {},
   "outputs": [],
   "source": [
    "# Answer to 4b!\n",
    "\n",
    "# Taken from https://stackoverflow.com/questions/31517194/how-to-hide-one-specific-cell-input-or-output-in-ipython-notebook\n",
    "tag = HTML('''<script>\n",
    "code_show=true; \n",
    "function code_toggle() {\n",
    "    if (code_show){\n",
    "        $('div.cell.code_cell.rendered.selected div.input').hide();\n",
    "    } else {\n",
    "        $('div.cell.code_cell.rendered.selected div.input').show();\n",
    "    }\n",
    "    code_show = !code_show\n",
    "} \n",
    "$( document ).ready(code_toggle);\n",
    "</script>\n",
    "To see the answer, click <a href=\"javascript:code_toggle()\">here</a>.''')\n",
    "display(tag)\n",
    "###############################################################################################\n",
    "# Ignore everything above this line\n",
    "\n",
    "MONARCH_KEYS = Monarchs.keys()"
   ]
  },
  {
   "cell_type": "code",
   "execution_count": null,
   "metadata": {},
   "outputs": [],
   "source": [
    "# 5. Pretty cool, huh? Now try running the following code to print each list.\n",
    "print('Name')\n",
    "print(Monarchs['Name'])\n",
    "print('Start')\n",
    "print(Monarchs['Start'])\n",
    "print('End')\n",
    "print(Monarchs['End'])\n",
    "print('Nickname')\n",
    "print(Monarchs['Nickname'])"
   ]
  },
  {
   "cell_type": "code",
   "execution_count": null,
   "metadata": {
    "collapsed": true
   },
   "outputs": [],
   "source": [
    "# 6. Based on the result that you got, can you think of a better way to get the same result \n",
    "# without writing \"print\" over and over again\" Hint: think of the for-loop! Use as much space \n",
    "# below as needed. Try it on your own. Use as much space as necessary.\n",
    "\n",
    "# The answer is in the cell below. Run the cell to hide the answer. Once you are ready, re-run\n",
    "# the cell to show the answer. Honor system!\n",
    "\n"
   ]
  },
  {
   "cell_type": "code",
   "execution_count": null,
   "metadata": {},
   "outputs": [],
   "source": [
    "# Answer to 6!\n",
    "\n",
    "# Taken from https://stackoverflow.com/questions/31517194/how-to-hide-one-specific-cell-input-or-output-in-ipython-notebook\n",
    "tag = HTML('''<script>\n",
    "code_show=true; \n",
    "function code_toggle() {\n",
    "    if (code_show){\n",
    "        $('div.cell.code_cell.rendered.selected div.input').hide();\n",
    "    } else {\n",
    "        $('div.cell.code_cell.rendered.selected div.input').show();\n",
    "    }\n",
    "    code_show = !code_show\n",
    "} \n",
    "$( document ).ready(code_toggle);\n",
    "</script>\n",
    "To see the answer, click <a href=\"javascript:code_toggle()\">here</a>.''')\n",
    "display(tag)\n",
    "###############################################################################################\n",
    "# Ignore everything above this line\n",
    "\n",
    "for i in Monarchs.keys():\n",
    "    print(i)\n",
    "    print(Monarchs[i])\n"
   ]
  },
  {
   "cell_type": "code",
   "execution_count": null,
   "metadata": {},
   "outputs": [],
   "source": [
    "# 7. Now we introduce nested for-loops. Nested for-loops are loops within loops. We use these \n",
    "# when we have two or more lists or arrays and wish to run our code using every combination \n",
    "# of those lists. For instance, lets say that we intend to display all of our dictionary keys\n",
    "# along side all of their list elements. We could use the following code to do just that!\n",
    "\n",
    "for i in Monarchs.keys():\n",
    "    for j in Monarchs[i]:\n",
    "        print(i,j)"
   ]
  },
  {
   "cell_type": "code",
   "execution_count": null,
   "metadata": {
    "collapsed": true
   },
   "outputs": [],
   "source": [
    "# 7a. Using inspiration from the for-loop above, create the following pattern.\n",
    "\n",
    "# George Washington\n",
    "# George Jefferson\n",
    "# George Lincoln\n",
    "# George Roosevelt\n",
    "# George Reagan\n",
    "# George Obama\n",
    "# George Trump\n",
    "# Thomas Washington\n",
    "# etc.\n",
    "\n",
    "# The answer is in the cell below. Run the cell to hide the answer. Once you are ready, re-run\n",
    "# the cell to show the answer. Honor system!\n",
    " "
   ]
  },
  {
   "cell_type": "code",
   "execution_count": null,
   "metadata": {},
   "outputs": [],
   "source": [
    "# Answer to 7a! Run this cell to hide the answer.\n",
    "\n",
    "# Taken from https://stackoverflow.com/questions/31517194/how-to-hide-one-specific-cell-input-or-output-in-ipython-notebook\n",
    "tag = HTML('''<script>\n",
    "code_show=true; \n",
    "function code_toggle() {\n",
    "    if (code_show){\n",
    "        $('div.cell.code_cell.rendered.selected div.input').hide();\n",
    "    } else {\n",
    "        $('div.cell.code_cell.rendered.selected div.input').show();\n",
    "    }\n",
    "    code_show = !code_show\n",
    "} \n",
    "$( document ).ready(code_toggle);\n",
    "</script>\n",
    "To see the answer, click <a href=\"javascript:code_toggle()\">here</a>.''')\n",
    "display(tag)\n",
    "###############################################################################################\n",
    "# Ignore everything above this line\n",
    "\n",
    "for f in Presidents['First Name']:\n",
    "    for l in Presidents['Last Name']:\n",
    "        print(f,l)\n"
   ]
  },
  {
   "cell_type": "code",
   "execution_count": null,
   "metadata": {
    "collapsed": true
   },
   "outputs": [],
   "source": [
    "# 8. Did you know that you can nest dictionaries? This means that we can put a dictionary \n",
    "# inside of another dictionary. We can do this by creating an empty dictionary and placing \n",
    "# our two dictionaries, \"Presidents\" and \"Monarchs\" inside of the new one, just like they were\n",
    "# lists! \n",
    "\n",
    "HEADS_OF_STATE = {} # Create empty dictionary\n",
    "HEADS_OF_STATE['Presidents'] = Presidents\n",
    "HEADS_OF_STATE['Monarchs'] = Monarchs"
   ]
  },
  {
   "cell_type": "code",
   "execution_count": null,
   "metadata": {
    "collapsed": true
   },
   "outputs": [],
   "source": [
    "# 9. Use this cell to test your new dictionary. Try the following commands and see what you get.\n",
    "# You can do this by uncommenting these lines and running them one at a time. See what comes out\n",
    "# below.\n",
    "\n",
    "#type(HEADS_OF_STATE)\n",
    "#HEADS_OF_STATE.keys()\n",
    "#type(HEADS_OF_STATE['Presidents'])\n",
    "#type(HEADS_OF_STATE['Monarchs'])\n",
    "#HEADS_OF_STATE['Presidents'].keys()\n",
    "#HEADS_OF_STATE['Presidents'].keys()\n",
    "#HEADS_OF_STATE['Presidents'].keys()\n",
    "#HEADS_OF_STATE['Presidents']['First Name']\n",
    "\n",
    "# See how this works??"
   ]
  },
  {
   "cell_type": "code",
   "execution_count": null,
   "metadata": {},
   "outputs": [],
   "source": [
    "# 10. Now, we introduce CONDITIONAL STATEMENTS. Let's take the example from Lesson 1 (# 11). \n",
    "# But this time we only want to print information for Presidents with IQs greater or equal to \n",
    "# 120 and less than 100. Lets say that for all other Presidents, we wish to substitute the term\n",
    "# \"stable genius\" in for their IQs. We can do this by using a series of conditional statements.\n",
    "#\n",
    "# These statements are:\n",
    "# if - this always comes first. It represents the first conditional statement.\n",
    "#\n",
    "# elif - this conditional statement CAN (but doesn't have to) follow \"if. It represents some \n",
    "# alternative to the first condition (if). \n",
    "#\n",
    "# else - any condition that hasn't been specified by if and elif statements. \"else\" goes last \n",
    "#\n",
    "# Conditional statements are similar to for-loops. They MUST be followed by a colon, \n",
    "# and all executions must be indented. Run this annotated example below:\n",
    "\n",
    "for i,p in enumerate(last_NAME): # Run an enumerated for-loop. i is the index and p is the \n",
    "    # president's last name\n",
    "    if IQ[i] >= 120: # IQs greater than or equal to 120\n",
    "        print(\"President \" + first_NAME[i] + ' ' + p + ', IQ: ' + str(IQ[i]))\n",
    "    elif IQ[i] < 100: # IQs less than 100\n",
    "        print(\"President \" + first_NAME[i] + ' ' + p + ', IQ: ' + str(IQ[i]))\n",
    "    else: # IQs between 100 and 120\n",
    "        print(\"President \" + first_NAME[i] + ' ' + p + ', IQ: ' + 'Not Honest Abe!')\n"
   ]
  },
  {
   "cell_type": "code",
   "execution_count": null,
   "metadata": {},
   "outputs": [],
   "source": [
    "# 11. See how this works? In this particular case, we use two conditional statements instead of \n",
    "# three. Lets combine the \"if\" and \"elif\" statement using \"or\". Run this code and notice the\n",
    "# similarities.\n",
    "\n",
    "for i,p in enumerate(last_NAME): # Run an enumerated for-loop. i is the index and p is the \n",
    "    # president's last name\n",
    "    if IQ[i] >= 120 or IQ[i] < 100: # IQs greater than or equal to 120\n",
    "        print(\"President \" + first_NAME[i] + ' ' + p + ', IQ: ' + str(IQ[i]))\n",
    "    else: # IQs between 100 and 120\n",
    "        print(\"President \" + first_NAME[i] + ' ' + p + ', IQ: ' + 'Not honest Abe!')\n"
   ]
  },
  {
   "cell_type": "code",
   "execution_count": null,
   "metadata": {
    "collapsed": true
   },
   "outputs": [],
   "source": [
    "# 12. OK! With me so far? Now let's try to get the same result by again using two conditional \n",
    "# statements. This time however, lets use \"and\" instead of \"or\". Use as much space as necessary \n",
    "# to write two conditional statements using AND. You should be able to get the same result as \n",
    "# above. The cell below contains an answer. Run the cell below in order to hide this answer. No \n",
    "# cheating!\n",
    "\n",
    "# HINT: be open minded about what you are searching for with \"if\"\n"
   ]
  },
  {
   "cell_type": "code",
   "execution_count": null,
   "metadata": {},
   "outputs": [],
   "source": [
    "# Answer to 12. Run this cell to hide the answer.\n",
    "\n",
    "# Taken from https://stackoverflow.com/questions/31517194/how-to-hide-one-specific-cell-input-or-output-in-ipython-notebook\n",
    "tag = HTML('''<script>\n",
    "code_show=true; \n",
    "function code_toggle() {\n",
    "    if (code_show){\n",
    "        $('div.cell.code_cell.rendered.selected div.input').hide();\n",
    "    } else {\n",
    "        $('div.cell.code_cell.rendered.selected div.input').show();\n",
    "    }\n",
    "    code_show = !code_show\n",
    "} \n",
    "$( document ).ready(code_toggle);\n",
    "</script>\n",
    "To see the answer, click <a href=\"javascript:code_toggle()\">here</a>.''')\n",
    "display(tag)\n",
    "###############################################################################################\n",
    "# Ignore everything above this line\n",
    "\n",
    "for i,p in enumerate(last_NAME): # Run an enumerated for-loop. i is the index and p is the \n",
    "    # president's last name\n",
    "    if IQ[i] >= 100 and IQ[i] < 120: # IQs greater than or equal to 120\n",
    "        print(\"President \" + first_NAME[i] + ' ' + p + ', IQ: ' + 'Not honest abe!')\n",
    "    else: # IQs between 100 and 120\n",
    "        print(\"President \" + first_NAME[i] + ' ' + p + ', IQ: ' + str(IQ[i]))\n"
   ]
  },
  {
   "cell_type": "code",
   "execution_count": null,
   "metadata": {},
   "outputs": [],
   "source": [
    "# 13. Did you know that conditional statements don't ONLY work with numbers? You can use them \n",
    "# with strings too. For instance, let's say that we wanted to find which English ruler had the\n",
    "# moniker \"Oriana\". We could also put this into a conditional statement. \n",
    "\n",
    "for i,q in enumerate(Monarchs['Nickname']): # go through nicknames one by one\n",
    "    if q == 'Oriana': # Notice the double equals sign. == is also used for numbers\n",
    "        print(Monarchs['Name'][i] + ' is ' + q)"
   ]
  },
  {
   "cell_type": "code",
   "execution_count": null,
   "metadata": {
    "collapsed": true
   },
   "outputs": [],
   "source": [
    "# 14. Did you know that you can change any element of a list by indexing it and setting it \n",
    "# equal to something else? For example, remember the list 'first_NAME'. If we wanted to change \n",
    "# Franklin's name to 'Theodore', we could find the index and then change the element. \n",
    "# Try it out! Test if to be sure.\n",
    "\n",
    "IND = first_NAME.index('Franklin')\n",
    "first_NAME[IND] = 'Theodore'"
   ]
  },
  {
   "cell_type": "code",
   "execution_count": null,
   "metadata": {
    "collapsed": true
   },
   "outputs": [],
   "source": [
    "# 15. Thankfully, you've only changed the list and not the Dictionaries. However, on second \n",
    "# thought, do we really want to refer to the King George III as 'the mad king?'. That's sooo\n",
    "# game of thrones! His friends used to call him 'Farmer George' because of his interest in \n",
    "# agriculture. Therefore, let's change his nickname, shall we? Using the HEADS_OF_STATE \n",
    "# dictionary, change 'the mad King' to 'Farmer George' using an if-statement. Afterwards,\n",
    "# check the dictionary to make sure that it is indeed changed. Run the cell in order to hide this answer. No \n",
    "# cheating!\n",
    "\n",
    "#Use as much space, and then check your answer with the cell below. Hide the answer key before\n",
    "# attempting. No cheating!"
   ]
  },
  {
   "cell_type": "code",
   "execution_count": null,
   "metadata": {},
   "outputs": [],
   "source": [
    "# Answer to 15. Run this cell to hide the answer.\n",
    "\n",
    "\n",
    "# Taken from https://stackoverflow.com/questions/31517194/how-to-hide-one-specific-cell-input-or-output-in-ipython-notebook\n",
    "tag = HTML('''<script>\n",
    "code_show=true; \n",
    "function code_toggle() {\n",
    "    if (code_show){\n",
    "        $('div.cell.code_cell.rendered.selected div.input').hide();\n",
    "    } else {\n",
    "        $('div.cell.code_cell.rendered.selected div.input').show();\n",
    "    }\n",
    "    code_show = !code_show\n",
    "} \n",
    "$( document ).ready(code_toggle);\n",
    "</script>\n",
    "To see the answer, click <a href=\"javascript:code_toggle()\">here</a>.''')\n",
    "display(tag)\n",
    "###############################################################################################\n",
    "# Ignore everything above this line\n",
    "\n",
    "for i,k in enumerate(HEADS_OF_STATE['Monarchs']['Nickname']):\n",
    "    if 'mad' in k:\n",
    "        HEADS_OF_STATE['Monarchs']['Nickname'][i] = 'Farmer George'"
   ]
  },
  {
   "cell_type": "code",
   "execution_count": null,
   "metadata": {
    "collapsed": true
   },
   "outputs": [],
   "source": [
    "# 16. Now that you have changed George III's nickname, create a printed list of British Monarchs\n",
    "# in the following format:\n",
    "\n",
    "# Name, AKA nickname, Reign: year-year\n",
    "# For example:\n",
    "# Edward I, AKA Longshanks, Reign: 1272 - 1307\n"
   ]
  },
  {
   "cell_type": "code",
   "execution_count": null,
   "metadata": {},
   "outputs": [],
   "source": [
    "# Answer to 16. Run this cell to hide the answer.\n",
    "\n",
    "# Taken from https://stackoverflow.com/questions/31517194/how-to-hide-one-specific-cell-input-or-output-in-ipython-notebook\n",
    "tag = HTML('''<script>\n",
    "code_show=true; \n",
    "function code_toggle() {\n",
    "    if (code_show){\n",
    "        $('div.cell.code_cell.rendered.selected div.input').hide();\n",
    "    } else {\n",
    "        $('div.cell.code_cell.rendered.selected div.input').show();\n",
    "    }\n",
    "    code_show = !code_show\n",
    "} \n",
    "$( document ).ready(code_toggle);\n",
    "</script>\n",
    "To see the answer, click <a href=\"javascript:code_toggle()\">here</a>.''')\n",
    "display(tag)\n",
    "###############################################################################################\n",
    "# Ignore everything above this line\n",
    "\n",
    "\n",
    "for i,p in enumerate(HEADS_OF_STATE['Monarchs']['Name']):\n",
    "    namE = p\n",
    "    nickNAME = HEADS_OF_STATE['Monarchs']['Nickname'][i]\n",
    "    firstYEAR = HEADS_OF_STATE['Monarchs']['Start'][i]\n",
    "    lastYEAR = HEADS_OF_STATE['Monarchs']['End'][i]\n",
    "    print(namE + ', AKA ' + nickNAME + ', Reign: ' + str(firstYEAR) + ' - ' + str(lastYEAR))\n",
    "    \n"
   ]
  }
 ],
 "metadata": {
  "kernelspec": {
   "display_name": "Python 3",
   "language": "python",
   "name": "python3"
  },
  "language_info": {
   "codemirror_mode": {
    "name": "ipython",
    "version": 3
   },
   "file_extension": ".py",
   "mimetype": "text/x-python",
   "name": "python",
   "nbconvert_exporter": "python",
   "pygments_lexer": "ipython3",
   "version": "3.6.3"
  }
 },
 "nbformat": 4,
 "nbformat_minor": 2
}
