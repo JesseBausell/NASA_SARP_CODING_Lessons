{
 "cells": [
  {
   "cell_type": "code",
   "execution_count": null,
   "metadata": {
    "collapsed": true
   },
   "outputs": [],
   "source": [
    "## Python for Earth Scientists: Lesson 3\n",
    "# Run this cell in order to create the variables below. These variables will be used in the\n",
    "# lesson. If for any reason you change one of these variables by mistake, you can re-run\n",
    "# this cell in order to reset the variables. We will refer to this cell as the \"first variables\n",
    "# cell\". This cell may look familiar from last lesson.\n",
    "\n",
    "from IPython.display import HTML # Ignore this library\n",
    "from IPython.display import display # Ignore this library\n",
    "\n",
    "from tkinter import filedialog as fd # File dialog library. This can be used to select folders \n",
    "import numpy as np\n",
    "import csv\n",
    "\n",
    "# President Lists\n",
    "first_NAME = ['George', 'Thomas','Abraham','Franklin','Ronald','Barack','Donald'] # Character List \n",
    "last_NAME = ['Washington', 'Jefferson','Lincoln','Roosevelt','Reagan','Obama','Trump'] # Character List \n",
    "IQ = [100,150,120,115,90,130,110] # Numerical list\n",
    "\n",
    "# Create dictionary for Presidents\n",
    "Presidents = {'First Name': first_NAME,'Last Name': last_NAME,'Intelligence': IQ} \n",
    "\n",
    "# Monarch Lists\n",
    "monarch_NAME = ['Edward I','Henry VIII','Elizabeth I','George III','Victoria']\n",
    "reign_START = [1272,1509,1558,1760,1837]\n",
    "reign_END = [1307,1547,1603,1820,1901]\n",
    "monikER = ['Longshanks','Bad Husband','Oriana','the mad King','Widow of Winsor']\n",
    "\n",
    "# Create dictionary for Monarchs. \n",
    "Monarchs = {} # Create an empty dictionary. \n",
    "Monarchs['Name'] = monarch_NAME # \n",
    "Monarchs['Start'] = reign_START\n",
    "Monarchs['End'] = reign_END\n",
    "Monarchs['Nickname'] = monikER\n",
    "\n",
    "# NOTE: Because python is flexible, we create our two dictionaries using differen methods.\n",
    "# However, are created in different ways, but the result is the same.\n"
   ]
  },
  {
   "cell_type": "code",
   "execution_count": null,
   "metadata": {
    "collapsed": true
   },
   "outputs": [],
   "source": [
    "# 1. Use the directory selection function to choose a location for saving files. I recommend\n",
    "# selecting desktop. \n",
    "\n",
    "filE_path = fd.askdirectory() + '/' # User selects a folder to place a file\n"
   ]
  },
  {
   "cell_type": "code",
   "execution_count": null,
   "metadata": {
    "collapsed": true
   },
   "outputs": [],
   "source": [
    "# 2. Hopefully by now you are all familiar with dictionaries and how they work. So far we have\n",
    "# created two dictionaries, Presidents and Monarchs. Both of these dictionaries have the same\n",
    "# number of elements in each of their keys (e.g. lists of the same length). This means that we\n",
    "# can write them into ascii files! One such ascii file is comma separated values, or csv files.\n",
    "# These files separate data by commas and are easily read with excel. Assorts values into cells\n",
    "# based on their commas. Here you will learn how to create a csv file containing data."
   ]
  },
  {
   "cell_type": "code",
   "execution_count": null,
   "metadata": {
    "collapsed": true
   },
   "outputs": [],
   "source": [
    "# 2a. Writing the csv file: Writing a csv file requires you to create a file where there was\n",
    "# none before. This can be done with the function \"open\". \"open\" can read an existing data file,\n",
    "# but it can also create a new file to be written if we include a 'w' after the file name. Your\n",
    "# code may look something like this:\n",
    "#\n",
    "# Run the following code to create an empty csv file in your desktop. Open the file afterwards to\n",
    "# make sure that it worked!\n",
    "\n",
    "FID = open(filE_path + 'NASA_SARP.csv','w') # Create empty file\n",
    "FID.close() # Close empty file to prevent unwanted changes.\n"
   ]
  },
  {
   "cell_type": "code",
   "execution_count": null,
   "metadata": {
    "collapsed": true
   },
   "outputs": [],
   "source": [
    "# 2b. Now let's re-write the csv file, but this time we'll include some data! The csv module \n",
    "# (csv), which you previously imported has function for generating writer objects, which can\n",
    "# be used to seamlessly import data into the csv file. Data, organized as lists, can be written\n",
    "# into your csv file as rows. Each list element is separated by a commaa. Let's try it by taking\n",
    "# our three keys in \"Presidents\" and making them the fist line. We'll even change the name of \n",
    "# our csv file to \"Presidents.csv\". Run the code in this cell and see what happens!\n",
    "\n",
    "\n",
    "\n",
    "FID = open(filE_path + 'Presidents.csv','w') # Create a new file in your desktop folder\n",
    "CSV_WRITE = csv.writer(FID, delimiter=',',quotechar='|') # Create a csv writer object\n",
    "CSV_WRITE.writerow(Presidents.keys()) # Create row of dictionary keys in the order that they appear\n",
    "FID.close() # Close the file to avoid unwanted changes.\n"
   ]
  },
  {
   "cell_type": "code",
   "execution_count": null,
   "metadata": {
    "collapsed": true
   },
   "outputs": [],
   "source": [
    "# 2c. Congratulations! You have written your first csv file with data! It will no doubt be one\n",
    "# of many more to come. However, our form needs some work. When we use the following format,\n",
    "# FID = open(FileName.csv,'w') we always must remember to close the file with FID.close(), \n",
    "# lest we risk making  unintended alterations to the file down the road. Moreover, if we have \n",
    "# too many open files, or too much data in one open file, we will eat up our computer memory.\n",
    "# We therefore recommend using the function \"with\" to read and write data files. \"with\" uses\n",
    "# a format that is similar to a for-loop or if-statement. Once it is finished, the FID is \n",
    "# automatically closed. Try running the same code using \"with\" and compare your results to 2b.\n",
    "\n",
    "with open(filE_path + 'Presidents0.csv','w') as FID: # Create a new file in your desktop folder\n",
    "    CSV_WRITE = csv.writer(FID, delimiter=',',quotechar='|') # Create a csv writer object\n",
    "    CSV_WRITE.writerow(Presidents.keys()) # Create row of dictionary keys in the order that they appear"
   ]
  },
  {
   "cell_type": "code",
   "execution_count": null,
   "metadata": {
    "collapsed": true
   },
   "outputs": [],
   "source": [
    "# 2d. See how easy that was? Keeping in mind that writer objects create csv rows out of \n",
    "# lists, combine this information with your existing knowledge of \"with\", dictionaries, and \n",
    "# for-loops to write a .csv file containing the first names, last names, and IQs of each \n",
    "# President. Try this exercise independently and reference your work with the answer below as\n",
    "# needed. \n",
    "\n",
    "# Write your code in the space below. Please do not look at the solutions until you have \n",
    "# attempted this problem on your own!\n",
    "\n",
    "\n",
    "\n",
    "\n",
    "\n",
    "\n",
    "\n",
    "\n"
   ]
  },
  {
   "cell_type": "code",
   "execution_count": null,
   "metadata": {
    "collapsed": true
   },
   "outputs": [],
   "source": [
    "## Answer#1 to 2d: Run this cell to cover the answer\n",
    "\n",
    "# Taken from https://stackoverflow.com/questions/31517194/how-to-hide-one-specific-cell-input-or-output-in-ipython-notebook\n",
    "tag = HTML('''<script>\n",
    "code_show=true; \n",
    "function code_toggle() {\n",
    "    if (code_show){\n",
    "        $('div.cell.code_cell.rendered.selected div.input').hide();\n",
    "    } else {\n",
    "        $('div.cell.code_cell.rendered.selected div.input').show();\n",
    "    }\n",
    "    code_show = !code_show\n",
    "} \n",
    "$( document ).ready(code_toggle);\n",
    "</script>\n",
    "To see the answer, click <a href=\"javascript:code_toggle()\">here</a>.''')\n",
    "display(tag)\n",
    "\n",
    "###############################################################################################\n",
    "# Ignore everything above this line\n",
    "# Solution 1: This is one solution to question 2d. While this solution does work, it is \n",
    "# specific to this exact dictionary. This code would not work on a different dictionary. \n",
    "# It also wouldn't work if we made any changes to the dictionary \"Presidents\" by adding new\n",
    "# keys or changing the names of one or more existing keys.\n",
    "\n",
    "with open(filE_path + 'Presidents1.csv','w') as FID: # Creates a brand new csv file and file identifier\n",
    "    CSV_WRITE = csv.writer(FID, delimiter=',',quotechar='|') # Creates writer object\n",
    "    CSV_WRITE.writerow(Presidents.keys()) # writes President keys as the first line of \"data\"\n",
    "    for i,p in enumerate(Presidents['First Name']): \n",
    "        # For-loop goes through the Presidents' first names one at a time. It assigns first \n",
    "        # first names to the variable \"p\" and their indices to the variable \"i\"\n",
    "        roW = [p, Presidents['Last Name'][i], Presidents['Intelligence'][i]] # Creates a list\n",
    "        # consisting of first name, last name, and IQ of each president called \"roW\"\n",
    "        CSV_WRITE.writerow(roW) # prints roW into the csv file"
   ]
  },
  {
   "cell_type": "code",
   "execution_count": null,
   "metadata": {
    "collapsed": true
   },
   "outputs": [],
   "source": [
    "## Answer#2 to 2d: Run this cell to cover the answer\n",
    "\n",
    "# Taken from https://stackoverflow.com/questions/31517194/how-to-hide-one-specific-cell-input-or-output-in-ipython-notebook\n",
    "tag = HTML('''<script>\n",
    "code_show=true; \n",
    "function code_toggle() {\n",
    "    if (code_show){\n",
    "        $('div.cell.code_cell.rendered.selected div.input').hide();\n",
    "    } else {\n",
    "        $('div.cell.code_cell.rendered.selected div.input').show();\n",
    "    }\n",
    "    code_show = !code_show\n",
    "} \n",
    "$( document ).ready(code_toggle);\n",
    "</script>\n",
    "To see the answer, click <a href=\"javascript:code_toggle()\">here</a>.''')\n",
    "display(tag)\n",
    "\n",
    "###############################################################################################\n",
    "\n",
    "# Solution 2: This is a MUCH better solution to 2d. The reason for this is that this solution\n",
    "# will work for any dictionary, as long as all of its keys are lists and as long as its lists\n",
    "# are the same length. Solution 2 uses a generic dictionary, called \"GENERIC_DICT\" that we can\n",
    "# set equal to \"Presidents!\" See below.\n",
    "\n",
    "GENERIC_DICT = Presidents # Set generic GENERIC_DICT equal to Presidents \n",
    "\n",
    "with open(filE_path + 'Presidents2.csv','w') as FID: # Creates a brand new csv file and file identifier\n",
    "    CSV_WRITE = csv.writer(FID, delimiter=',',quotechar='|') # Creates writer object\n",
    "    CSV_WRITE.writerow(GENERIC_DICT.keys()) # writes GENERIC_DICT keys as the first line of \"data\"\n",
    "    # Now we need to count the elements in each of our lists. They should be the same for all keys\n",
    "    # so we only need to do this once.\n",
    "    keY_LIST = list(GENERIC_DICT.keys()) # Make a list containing all GENERIC_DICT keys\n",
    "    # We don't know how many keys will be in this list because it may be different for \n",
    "    # each dictionary. But we know that all dictionaries contain AT LEAST one key!\n",
    "    first_KEY = keY_LIST[0] # Find the name of GENERIC_DICT's first key\n",
    "    first_LST = GENERIC_DICT[first_KEY] # Find the length of list inside GENERIC_DICT's first key\n",
    "    numELEMENT = len(first_LST) # Find the number of elements inside GENERIC_DICT's first key\n",
    "    for i in range(numELEMENT): \n",
    "        # Using the function \"range\", this for-loop cycles through an array of integers. These\n",
    "        # integers increase in value from 0 to numELEMENT-1 and correspond to the indices of\n",
    "        # lists contained in GENERIC_DICT keys\n",
    "        roW = [] # Create an empty list called \"roW\"\n",
    "        for p in GENERIC_DICT.keys():\n",
    "            # This is a nested for-loop that runs inside of the big for loop by cycling through\n",
    "            # generic dictionary keys. \n",
    "            eLMT = GENERIC_DICT[p][i] # Variable for each dictionary key element. \n",
    "            roW.append(eLMT) # Add eLMT to roW (initially empty)\n",
    "        CSV_WRITE.writerow(roW) # writes roW into the csv file\n"
   ]
  },
  {
   "cell_type": "code",
   "execution_count": null,
   "metadata": {
    "collapsed": true
   },
   "outputs": [],
   "source": [
    "# 3. Pretty cool, huh? We can create a universal script for creating csv file out of \n",
    "# dictionaries! But what if we want to create multiple csv files? Do we want to be copying and\n",
    "# pasting this code EVERY TIME we want to use it? This seems very inconvenient and extremely \n",
    "# prone to error. What if we copy something incorrectly?\n",
    " \n",
    "# We can solve this dilema by creating a user-defined function. User-defined functions are \n",
    "# self-contained, meaning that their code and variables do not exist outside the function. In \n",
    "# other words, a variable created INSIDE a function cannot be called up outside of it. The other\n",
    "# advantage of functions is that they rely on user input variables. Although they alter these\n",
    "# variables, they do not change outside of the function. This gives us piece of mind to know\n",
    "# that we're not premanently altering any variable that we may need down the road. \n",
    "\n",
    "# 3a. The code below should look familiar. It is the same code from \"Solution 2\" (see above) \n",
    "# organized into a function. Run this cell to create the function \"Dict2CSV\"\n",
    "\n",
    "def Dict2CSV(file_name,GENERIC_DICT):\n",
    "    \"\"\"This function will take a dictionary (GENERIC_DICT) and write it into a csv file called (file_name).\n",
    "    \"GENERIC_DICT\" is any dictionary comprised of equally sized lists. file_name should contain not only the \n",
    "    desired file name, but also the pathway for accessing it.\"\"\"\n",
    "    with open(file_name,'w') as FID: # Creates a brand new csv file and file identifier\n",
    "        CSV_WRITE = csv.writer(FID, delimiter=',',quotechar='|') # Creates writer object\n",
    "        CSV_WRITE.writerow(GENERIC_DICT.keys()) # writes GENERIC_DICT keys as the first line of \"data\"\n",
    "        # Now we need to count the elements in each of our lists. They should be the same for all keys\n",
    "        # so we only need to do this once.\n",
    "        keY_LIST = list(GENERIC_DICT.keys()) # Make a list containing all GENERIC_DICT keys\n",
    "        # We don't know how many keys will be in this list because it may be different for \n",
    "        # each dictionary. But we know that all dictionaries contain AT LEAST one key!\n",
    "        first_KEY = keY_LIST[0] # Find the name of GENERIC_DICT's first key\n",
    "        first_LST = GENERIC_DICT[first_KEY] # Find the length of list inside GENERIC_DICT's first key\n",
    "        numELEMENT = len(first_LST) # Find the number of elements inside GENERIC_DICT's first key\n",
    "        for i in range(numELEMENT): \n",
    "            # Using the function \"range\", this for-loop cycles through an array of integers. These\n",
    "            # integers increase in value from 0 to numELEMENT-1 and correspond to the indices of\n",
    "            # lists contained in GENERIC_DICT keys\n",
    "            roW = [] # Create an empty list called \"roW\"\n",
    "            for p in GENERIC_DICT.keys():\n",
    "                # This is a nested for-loop that runs inside of the big for loop by cycling through\n",
    "                # generic dictionary keys. \n",
    "                eLMT = GENERIC_DICT[p][i] # Variable for each dictionary key element. \n",
    "                roW.append(eLMT) # Add eLMT to roW (initially empty)\n",
    "            CSV_WRITE.writerow(roW) # writes roW into the csv file\n"
   ]
  },
  {
   "cell_type": "code",
   "execution_count": null,
   "metadata": {
    "collapsed": true
   },
   "outputs": [],
   "source": [
    "# 3b. Now that we have created a function, use the help application to read about what this \n",
    "# function does by running this cell.\n",
    "\n",
    "?Dict2CSV"
   ]
  },
  {
   "cell_type": "code",
   "execution_count": null,
   "metadata": {
    "collapsed": true
   },
   "outputs": [],
   "source": [
    "# 3c. Lets test our new function by asking it to create a csv file using Presidents. Run this \n",
    "# cell to create a csv file called \"UnitedStates_Presidents.csv\" using Dict2CSV. Don't forget\n",
    "# to include your pathway to the desktop.\n",
    "\n",
    "Dict2CSV(filE_path+\"UnitedStates_Presidents.csv\",Presidents)"
   ]
  },
  {
   "cell_type": "code",
   "execution_count": null,
   "metadata": {
    "collapsed": true
   },
   "outputs": [],
   "source": [
    "# 3d. In the space below, use Dict2CSV to create a csv file for British Monarchs and save it\n",
    "# to your desktop. Call it \"UnitedKingdom_Monarchs.csv\". The cell below contains answers\n",
    "\n"
   ]
  },
  {
   "cell_type": "code",
   "execution_count": null,
   "metadata": {
    "collapsed": true
   },
   "outputs": [],
   "source": [
    "# Answer to 3d! Run this cell to hide the answer.\n",
    "\n",
    "# Taken from https://stackoverflow.com/questions/31517194/how-to-hide-one-specific-cell-input-or-output-in-ipython-notebook\n",
    "tag = HTML('''<script>\n",
    "code_show=true; \n",
    "function code_toggle() {\n",
    "    if (code_show){\n",
    "        $('div.cell.code_cell.rendered.selected div.input').hide();\n",
    "    } else {\n",
    "        $('div.cell.code_cell.rendered.selected div.input').show();\n",
    "    }\n",
    "    code_show = !code_show\n",
    "} \n",
    "$( document ).ready(code_toggle);\n",
    "</script>\n",
    "To see the answer, click <a href=\"javascript:code_toggle()\">here</a>.''')\n",
    "display(tag)\n",
    "###############################################################################################\n",
    "# Ignore everything above this line\n",
    "\n",
    "KingsQueens = filE_path + \"UnitedKingdom_Monarchs.csv\" # alternative way of creating file pathway\n",
    "\n",
    "Dict2CSV(KingsQueens,Monarchs)"
   ]
  },
  {
   "cell_type": "code",
   "execution_count": null,
   "metadata": {
    "collapsed": true
   },
   "outputs": [],
   "source": [
    "# This concludes lesson 3. Be sure to put \"UnitedStates_Presidents.csv\" and \n",
    "# \"UnitedKingdom_Monarchs.csv\" someplace safe! You will need them for lesson 4."
   ]
  }
 ],
 "metadata": {
  "kernelspec": {
   "display_name": "Python 3",
   "language": "python",
   "name": "python3"
  },
  "language_info": {
   "codemirror_mode": {
    "name": "ipython",
    "version": 3
   },
   "file_extension": ".py",
   "mimetype": "text/x-python",
   "name": "python",
   "nbconvert_exporter": "python",
   "pygments_lexer": "ipython3",
   "version": "3.6.3"
  }
 },
 "nbformat": 4,
 "nbformat_minor": 2
}
